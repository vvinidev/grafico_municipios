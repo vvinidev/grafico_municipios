import pandas as pd
import matplotlib.pyplot as plt
import ipywidgets as widgets
from IPython.display import display, clear_output

# Montar o Google Drive (caso esteja usando o Colab)
from google.colab import drive
drive.mount('/content/drive')

# Ler o arquivo CSV dos dados principais (exportação)
df = pd.read_csv("/content/drive/MyDrive/Colab Notebooks/EXP_2020_MUN.csv", delimiter=';')

# Limpar os espaços extras nas colunas
df.columns = df.columns.str.strip()

# Ler o arquivo CSV com os códigos e nomes dos municípios (que já está no Google Drive)
municipios_df = pd.read_csv("/content/drive/MyDrive/Colab Notebooks/UF_MUN.csv", delimiter=';', encoding='latin-1')

# Limpar os espaços extras nas colunas do arquivo de municípios
municipios_df.columns = municipios_df.columns.str.strip()

# Ler o arquivo NCM_SH.csv (código do produto e nome)
ncm_sh_df = pd.read_csv("/content/drive/MyDrive/Colab Notebooks/NCM_SH.csv", delimiter=';', encoding='latin-1')

# Filtrar os municípios do estado de São Paulo
municipios_sp = df[df['SG_UF_MUN'].str.contains('SP', case=False, na=False)]

# Agrupar por município e contar os 5 produtos mais frequentes (SH4)
top5_por_municipio = municipios_sp.groupby('CO_MUN')['SH4'].value_counts().groupby(level=0).head(5).reset_index(name='quantidade')

# Garantir que as colunas 'CO_MUN' e 'CO_MUN_GEO' sejam do mesmo tipo
top5_por_municipio['CO_MUN'] = top5_por_municipio['CO_MUN'].astype(str)
municipios_df['CO_MUN_GEO'] = municipios_df['CO_MUN_GEO'].astype(str)

# Ajuste: Fazer a junção com o dataframe de municípios usando a coluna 'NO_MUN' para o nome do município
top5_por_municipio = top5_por_municipio.merge(municipios_df[['CO_MUN_GEO', 'NO_MUN']],
                                              left_on='CO_MUN',
                                              right_on='CO_MUN_GEO',
                                              how='left')

# Fazer a junção entre 'top5_por_municipio' e 'ncm_sh_df' com base no código 'SH4'
top5_por_municipio = top5_por_municipio.merge(ncm_sh_df[['CO_SH4', 'NO_SH4_POR']],
                                              left_on='SH4',
                                              right_on='CO_SH4',
                                              how='left')

# Truncar o nome do produto para 20 caracteres
top5_por_municipio['Produto (SH4)'] = top5_por_municipio['NO_SH4_POR'].apply(lambda x: x[:40] + '...' if len(x) > 40 else x) + ' (' + top5_por_municipio['SH4'].astype(str) + ')'

# Função para criar o gráfico com matplotlib
def criar_grafico(municipio):
    clear_output(wait=True)  # Limpar a saída anterior do gráfico
    display(municipios_dropdown)  # Exibir o dropdown novamente para seleção

    if municipio == "Todos":
        df_filtrado = top5_por_municipio
    else:
        df_filtrado = top5_por_municipio[top5_por_municipio['NO_MUN'] == municipio]

    # Plotar o gráfico
    plt.figure(figsize=(10, 6))
    plt.barh(df_filtrado['Produto (SH4)'], df_filtrado['quantidade'], color='skyblue')

    # Definir título e rótulos
    plt.title(f'Top 5 Produtos Mais Exportados do Município de {municipio}' if municipio != "Todos" else 'Top 5 Produtos Mais Exportados por Município em SP')
    plt.xlabel('Quantidade de Exportações')
    plt.ylabel('Produto (SH4)')

    # Exibir o gráfico
    plt.tight_layout()
    plt.show()

# Criar o dropdown interativo para selecionar o município
municipios_dropdown = widgets.Dropdown(
    options=["Todos"] + top5_por_municipio['NO_MUN'].unique().tolist(),
    value="Todos",
    description='Município:',
    disabled=False,
)

# Exibir o dropdown interativo
display(municipios_dropdown)

# Função para atualizar o gráfico quando o valor do dropdown mudar
def update_graph(change):
    # Chama a função de gráfico com o município selecionado
    criar_grafico(change.new)

# Associar a mudança no dropdown ao evento de atualização
municipios_dropdown.observe(update_graph, names='value')

# Chamar a função inicial para mostrar o gráfico de todos os municípios
criar_grafico("Todos")
